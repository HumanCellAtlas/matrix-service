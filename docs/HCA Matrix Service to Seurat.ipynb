{
 "cells": [
  {
   "cell_type": "markdown",
   "metadata": {},
   "source": [
    "## Loading an HCA matrix into seurat\n",
    "\n",
    "This vignette illustrates requesting an expression matrix from the HCA matrix service and loading it into seurat.\n",
    "\n",
    "\n",
    "First, install and import some dependencies:"
   ]
  },
  {
   "cell_type": "code",
   "execution_count": 140,
   "metadata": {
    "scrolled": true
   },
   "outputs": [
    {
     "name": "stderr",
     "output_type": "stream",
     "text": [
      "Updating HTML index of packages in '.Library'\n",
      "Making 'packages.html' ... done\n",
      "Updating HTML index of packages in '.Library'\n",
      "Making 'packages.html' ... done\n",
      "Skipping install of 'Seurat' from a github remote, the SHA1 (245d72b5) has not changed since last install.\n",
      "  Use `force = TRUE` to force installation\n"
     ]
    }
   ],
   "source": [
    "library(httr)\n",
    "install.packages(\"remotes\")\n",
    "install.packages(\"downloader\")\n",
    "library(downloader)\n",
    "remotes::install_github(\"satijalab/seurat\")\n",
    "library(Seurat)"
   ]
  },
  {
   "cell_type": "markdown",
   "metadata": {},
   "source": [
    "Now, we're going to make some requests to describe what fields and values we can filter on when we're selecting our matrix."
   ]
  },
  {
   "cell_type": "code",
   "execution_count": 141,
   "metadata": {},
   "outputs": [
    {
     "data": {
      "text/html": [
       "<ol>\n",
       "\t<li>'cell_suspension.provenance.document_id'</li>\n",
       "\t<li>'genes_detected'</li>\n",
       "\t<li>'specimen_from_organism.provenance.document_id'</li>\n",
       "\t<li>'specimen_from_organism.genus_species.ontology'</li>\n",
       "\t<li>'specimen_from_organism.genus_species.ontology_label'</li>\n",
       "\t<li>'donor_organism.human_specific.ethnicity.ontology'</li>\n",
       "\t<li>'donor_organism.human_specific.ethnicity.ontology_label'</li>\n",
       "\t<li>'donor_organism.diseases.ontology'</li>\n",
       "\t<li>'donor_organism.diseases.ontology_label'</li>\n",
       "\t<li>'donor_organism.development_stage.ontology'</li>\n",
       "\t<li>'donor_organism.development_stage.ontology_label'</li>\n",
       "\t<li>'derived_organ_ontology'</li>\n",
       "\t<li>'derived_organ_label'</li>\n",
       "\t<li>'derived_organ_part_ontology'</li>\n",
       "\t<li>'derived_organ_part_label'</li>\n",
       "\t<li>'library_preparation_protocol.provenance.document_id'</li>\n",
       "\t<li>'library_preparation_protocol.input_nucleic_acid_molecule.ontology'</li>\n",
       "\t<li>'library_preparation_protocol.input_nucleic_acid_molecule.ontology_label'</li>\n",
       "\t<li>'library_preparation_protocol.library_construction_method.ontology'</li>\n",
       "\t<li>'library_preparation_protocol.library_construction_method.ontology_label'</li>\n",
       "\t<li>'library_preparation_protocol.end_bias'</li>\n",
       "\t<li>'library_preparation_protocol.strand'</li>\n",
       "\t<li>'project.provenance.document_id'</li>\n",
       "\t<li>'project.project_core.project_short_name'</li>\n",
       "\t<li>'project.project_core.project_title'</li>\n",
       "\t<li>'analysis_protocol.provenance.document_id'</li>\n",
       "\t<li>'dss_bundle_fqid'</li>\n",
       "\t<li>'analysis_protocol.protocol_core.protocol_id'</li>\n",
       "\t<li>'analysis_working_group_approval_status'</li>\n",
       "</ol>\n"
      ],
      "text/latex": [
       "\\begin{enumerate}\n",
       "\\item 'cell\\_suspension.provenance.document\\_id'\n",
       "\\item 'genes\\_detected'\n",
       "\\item 'specimen\\_from\\_organism.provenance.document\\_id'\n",
       "\\item 'specimen\\_from\\_organism.genus\\_species.ontology'\n",
       "\\item 'specimen\\_from\\_organism.genus\\_species.ontology\\_label'\n",
       "\\item 'donor\\_organism.human\\_specific.ethnicity.ontology'\n",
       "\\item 'donor\\_organism.human\\_specific.ethnicity.ontology\\_label'\n",
       "\\item 'donor\\_organism.diseases.ontology'\n",
       "\\item 'donor\\_organism.diseases.ontology\\_label'\n",
       "\\item 'donor\\_organism.development\\_stage.ontology'\n",
       "\\item 'donor\\_organism.development\\_stage.ontology\\_label'\n",
       "\\item 'derived\\_organ\\_ontology'\n",
       "\\item 'derived\\_organ\\_label'\n",
       "\\item 'derived\\_organ\\_part\\_ontology'\n",
       "\\item 'derived\\_organ\\_part\\_label'\n",
       "\\item 'library\\_preparation\\_protocol.provenance.document\\_id'\n",
       "\\item 'library\\_preparation\\_protocol.input\\_nucleic\\_acid\\_molecule.ontology'\n",
       "\\item 'library\\_preparation\\_protocol.input\\_nucleic\\_acid\\_molecule.ontology\\_label'\n",
       "\\item 'library\\_preparation\\_protocol.library\\_construction\\_method.ontology'\n",
       "\\item 'library\\_preparation\\_protocol.library\\_construction\\_method.ontology\\_label'\n",
       "\\item 'library\\_preparation\\_protocol.end\\_bias'\n",
       "\\item 'library\\_preparation\\_protocol.strand'\n",
       "\\item 'project.provenance.document\\_id'\n",
       "\\item 'project.project\\_core.project\\_short\\_name'\n",
       "\\item 'project.project\\_core.project\\_title'\n",
       "\\item 'analysis\\_protocol.provenance.document\\_id'\n",
       "\\item 'dss\\_bundle\\_fqid'\n",
       "\\item 'analysis\\_protocol.protocol\\_core.protocol\\_id'\n",
       "\\item 'analysis\\_working\\_group\\_approval\\_status'\n",
       "\\end{enumerate}\n"
      ],
      "text/markdown": [
       "1. 'cell_suspension.provenance.document_id'\n",
       "2. 'genes_detected'\n",
       "3. 'specimen_from_organism.provenance.document_id'\n",
       "4. 'specimen_from_organism.genus_species.ontology'\n",
       "5. 'specimen_from_organism.genus_species.ontology_label'\n",
       "6. 'donor_organism.human_specific.ethnicity.ontology'\n",
       "7. 'donor_organism.human_specific.ethnicity.ontology_label'\n",
       "8. 'donor_organism.diseases.ontology'\n",
       "9. 'donor_organism.diseases.ontology_label'\n",
       "10. 'donor_organism.development_stage.ontology'\n",
       "11. 'donor_organism.development_stage.ontology_label'\n",
       "12. 'derived_organ_ontology'\n",
       "13. 'derived_organ_label'\n",
       "14. 'derived_organ_part_ontology'\n",
       "15. 'derived_organ_part_label'\n",
       "16. 'library_preparation_protocol.provenance.document_id'\n",
       "17. 'library_preparation_protocol.input_nucleic_acid_molecule.ontology'\n",
       "18. 'library_preparation_protocol.input_nucleic_acid_molecule.ontology_label'\n",
       "19. 'library_preparation_protocol.library_construction_method.ontology'\n",
       "20. 'library_preparation_protocol.library_construction_method.ontology_label'\n",
       "21. 'library_preparation_protocol.end_bias'\n",
       "22. 'library_preparation_protocol.strand'\n",
       "23. 'project.provenance.document_id'\n",
       "24. 'project.project_core.project_short_name'\n",
       "25. 'project.project_core.project_title'\n",
       "26. 'analysis_protocol.provenance.document_id'\n",
       "27. 'dss_bundle_fqid'\n",
       "28. 'analysis_protocol.protocol_core.protocol_id'\n",
       "29. 'analysis_working_group_approval_status'\n",
       "\n",
       "\n"
      ],
      "text/plain": [
       "[[1]]\n",
       "[1] \"cell_suspension.provenance.document_id\"\n",
       "\n",
       "[[2]]\n",
       "[1] \"genes_detected\"\n",
       "\n",
       "[[3]]\n",
       "[1] \"specimen_from_organism.provenance.document_id\"\n",
       "\n",
       "[[4]]\n",
       "[1] \"specimen_from_organism.genus_species.ontology\"\n",
       "\n",
       "[[5]]\n",
       "[1] \"specimen_from_organism.genus_species.ontology_label\"\n",
       "\n",
       "[[6]]\n",
       "[1] \"donor_organism.human_specific.ethnicity.ontology\"\n",
       "\n",
       "[[7]]\n",
       "[1] \"donor_organism.human_specific.ethnicity.ontology_label\"\n",
       "\n",
       "[[8]]\n",
       "[1] \"donor_organism.diseases.ontology\"\n",
       "\n",
       "[[9]]\n",
       "[1] \"donor_organism.diseases.ontology_label\"\n",
       "\n",
       "[[10]]\n",
       "[1] \"donor_organism.development_stage.ontology\"\n",
       "\n",
       "[[11]]\n",
       "[1] \"donor_organism.development_stage.ontology_label\"\n",
       "\n",
       "[[12]]\n",
       "[1] \"derived_organ_ontology\"\n",
       "\n",
       "[[13]]\n",
       "[1] \"derived_organ_label\"\n",
       "\n",
       "[[14]]\n",
       "[1] \"derived_organ_part_ontology\"\n",
       "\n",
       "[[15]]\n",
       "[1] \"derived_organ_part_label\"\n",
       "\n",
       "[[16]]\n",
       "[1] \"library_preparation_protocol.provenance.document_id\"\n",
       "\n",
       "[[17]]\n",
       "[1] \"library_preparation_protocol.input_nucleic_acid_molecule.ontology\"\n",
       "\n",
       "[[18]]\n",
       "[1] \"library_preparation_protocol.input_nucleic_acid_molecule.ontology_label\"\n",
       "\n",
       "[[19]]\n",
       "[1] \"library_preparation_protocol.library_construction_method.ontology\"\n",
       "\n",
       "[[20]]\n",
       "[1] \"library_preparation_protocol.library_construction_method.ontology_label\"\n",
       "\n",
       "[[21]]\n",
       "[1] \"library_preparation_protocol.end_bias\"\n",
       "\n",
       "[[22]]\n",
       "[1] \"library_preparation_protocol.strand\"\n",
       "\n",
       "[[23]]\n",
       "[1] \"project.provenance.document_id\"\n",
       "\n",
       "[[24]]\n",
       "[1] \"project.project_core.project_short_name\"\n",
       "\n",
       "[[25]]\n",
       "[1] \"project.project_core.project_title\"\n",
       "\n",
       "[[26]]\n",
       "[1] \"analysis_protocol.provenance.document_id\"\n",
       "\n",
       "[[27]]\n",
       "[1] \"dss_bundle_fqid\"\n",
       "\n",
       "[[28]]\n",
       "[1] \"analysis_protocol.protocol_core.protocol_id\"\n",
       "\n",
       "[[29]]\n",
       "[1] \"analysis_working_group_approval_status\"\n"
      ]
     },
     "metadata": {},
     "output_type": "display_data"
    }
   ],
   "source": [
    "r <- GET(\"https://matrix.data.humancellatlas.org/v1/filters\")\n",
    "content(r)"
   ]
  },
  {
   "cell_type": "markdown",
   "metadata": {},
   "source": [
    "That's the list of metadata fields we can filter on when requesting the matrix. We can describe any of them with further API calls:"
   ]
  },
  {
   "cell_type": "code",
   "execution_count": 142,
   "metadata": {},
   "outputs": [
    {
     "data": {
      "text/html": [
       "<dl>\n",
       "\t<dt>$cell_counts</dt>\n",
       "\t\t<dd><dl>\n",
       "\t<dt>$`Fetal/Maternal Interface`</dt>\n",
       "\t\t<dd>1</dd>\n",
       "\t<dt>$`Single cell RNAseq characterization of cell types produced over time in an in vitro model of human inhibitory interneuron differentiation.`</dt>\n",
       "\t\t<dd>1733</dd>\n",
       "\t<dt>$`Single cell transcriptome analysis of human pancreas`</dt>\n",
       "\t\t<dd>2544</dd>\n",
       "</dl>\n",
       "</dd>\n",
       "\t<dt>$field_description</dt>\n",
       "\t\t<dd>'A short name for the project.'</dd>\n",
       "\t<dt>$field_name</dt>\n",
       "\t\t<dd>'project.project_core.project_short_name'</dd>\n",
       "\t<dt>$field_type</dt>\n",
       "\t\t<dd>'categorical'</dd>\n",
       "</dl>\n"
      ],
      "text/latex": [
       "\\begin{description}\n",
       "\\item[\\$cell\\_counts] \\begin{description}\n",
       "\\item[\\$`Fetal/Maternal Interface`] 1\n",
       "\\item[\\$`Single cell RNAseq characterization of cell types produced over time in an in vitro model of human inhibitory interneuron differentiation.`] 1733\n",
       "\\item[\\$`Single cell transcriptome analysis of human pancreas`] 2544\n",
       "\\end{description}\n",
       "\n",
       "\\item[\\$field\\_description] 'A short name for the project.'\n",
       "\\item[\\$field\\_name] 'project.project\\_core.project\\_short\\_name'\n",
       "\\item[\\$field\\_type] 'categorical'\n",
       "\\end{description}\n"
      ],
      "text/markdown": [
       "$cell_counts\n",
       ":   $`Fetal/Maternal Interface`\n",
       ":   1\n",
       "$`Single cell RNAseq characterization of cell types produced over time in an in vitro model of human inhibitory interneuron differentiation.`\n",
       ":   1733\n",
       "$`Single cell transcriptome analysis of human pancreas`\n",
       ":   2544\n",
       "\n",
       "\n",
       "\n",
       "$field_description\n",
       ":   'A short name for the project.'\n",
       "$field_name\n",
       ":   'project.project_core.project_short_name'\n",
       "$field_type\n",
       ":   'categorical'\n",
       "\n",
       "\n"
      ],
      "text/plain": [
       "$cell_counts\n",
       "$cell_counts$`Fetal/Maternal Interface`\n",
       "[1] 1\n",
       "\n",
       "$cell_counts$`Single cell RNAseq characterization of cell types produced over time in an in vitro model of human inhibitory interneuron differentiation.`\n",
       "[1] 1733\n",
       "\n",
       "$cell_counts$`Single cell transcriptome analysis of human pancreas`\n",
       "[1] 2544\n",
       "\n",
       "\n",
       "$field_description\n",
       "[1] \"A short name for the project.\"\n",
       "\n",
       "$field_name\n",
       "[1] \"project.project_core.project_short_name\"\n",
       "\n",
       "$field_type\n",
       "[1] \"categorical\"\n"
      ]
     },
     "metadata": {},
     "output_type": "display_data"
    }
   ],
   "source": [
    "r <- GET(\"https://matrix.data.humancellatlas.org/v1/filters/project.project_core.project_short_name\")\n",
    "content(r)"
   ]
  },
  {
   "cell_type": "code",
   "execution_count": 143,
   "metadata": {},
   "outputs": [
    {
     "data": {
      "text/html": [
       "<dl>\n",
       "\t<dt>$field_description</dt>\n",
       "\t\t<dd>'Count of genes with a non-zero count.'</dd>\n",
       "\t<dt>$field_name</dt>\n",
       "\t\t<dd>'genes_detected'</dd>\n",
       "\t<dt>$field_type</dt>\n",
       "\t\t<dd>'numeric'</dd>\n",
       "\t<dt>$maximum</dt>\n",
       "\t\t<dd>13108</dd>\n",
       "\t<dt>$minimum</dt>\n",
       "\t\t<dd>358</dd>\n",
       "</dl>\n"
      ],
      "text/latex": [
       "\\begin{description}\n",
       "\\item[\\$field\\_description] 'Count of genes with a non-zero count.'\n",
       "\\item[\\$field\\_name] 'genes\\_detected'\n",
       "\\item[\\$field\\_type] 'numeric'\n",
       "\\item[\\$maximum] 13108\n",
       "\\item[\\$minimum] 358\n",
       "\\end{description}\n"
      ],
      "text/markdown": [
       "$field_description\n",
       ":   'Count of genes with a non-zero count.'\n",
       "$field_name\n",
       ":   'genes_detected'\n",
       "$field_type\n",
       ":   'numeric'\n",
       "$maximum\n",
       ":   13108\n",
       "$minimum\n",
       ":   358\n",
       "\n",
       "\n"
      ],
      "text/plain": [
       "$field_description\n",
       "[1] \"Count of genes with a non-zero count.\"\n",
       "\n",
       "$field_name\n",
       "[1] \"genes_detected\"\n",
       "\n",
       "$field_type\n",
       "[1] \"numeric\"\n",
       "\n",
       "$maximum\n",
       "[1] 13108\n",
       "\n",
       "$minimum\n",
       "[1] 358\n"
      ]
     },
     "metadata": {},
     "output_type": "display_data"
    }
   ],
   "source": [
    "r <- GET(\"https://matrix.data.humancellatlas.org/v1/filters/genes_detected\")\n",
    "content(r)"
   ]
  },
  {
   "cell_type": "markdown",
   "metadata": {},
   "source": [
    "For categorical data, we see the number of cells associated with each category. For numeric, we see the range of value. If we want to request a matrix based on these metadata values, we can add them to the filter in the body of a POST request to the matrix service:"
   ]
  },
  {
   "cell_type": "code",
   "execution_count": 144,
   "metadata": {
    "scrolled": true
   },
   "outputs": [
    {
     "name": "stdout",
     "output_type": "stream",
     "text": [
      "$eta\n",
      "[1] \"\"\n",
      "\n",
      "$matrix_url\n",
      "[1] \"\"\n",
      "\n",
      "$message\n",
      "[1] \"Job started.\"\n",
      "\n",
      "$request_id\n",
      "[1] \"272a2c80-e953-406b-9715-41ecf8f5197c\"\n",
      "\n",
      "$status\n",
      "[1] \"In Progress\"\n",
      "\n"
     ]
    }
   ],
   "source": [
    "payload = list(\n",
    "    filter =  list(\n",
    "          op = \"and\", \n",
    "          value = list(\n",
    "              list(op = \"=\", value = \"Single cell transcriptome analysis of human pancreas\",\n",
    "                   field = \"project.project_core.project_short_name\"),\n",
    "              list(op = \">=\", value = 300,\n",
    "                   field = \"genes_detected\")\n",
    "    )),\n",
    "    format = \"csv\"\n",
    ")\n",
    "r <- POST(\"https://matrix.data.humancellatlas.org/v1/matrix\", body = payload, encode = \"json\")\n",
    "response <- content(r)\n",
    "print(response)"
   ]
  },
  {
   "cell_type": "markdown",
   "metadata": {},
   "source": [
    "That call responds right away and tells us that the matrix is being prepared. We can use the request_id to wait until the matrix is done."
   ]
  },
  {
   "cell_type": "code",
   "execution_count": 145,
   "metadata": {},
   "outputs": [
    {
     "name": "stderr",
     "output_type": "stream",
     "text": [
      "In Progress\n",
      "In Progress\n",
      "In Progress\n",
      "In Progress\n",
      "In Progress\n",
      "In Progress\n",
      "In Progress\n",
      "In Progress\n",
      "In Progress\n",
      "In Progress\n",
      "In Progress\n",
      "In Progress\n",
      "In Progress\n",
      "In Progress\n",
      "In Progress\n",
      "In Progress\n",
      "In Progress\n",
      "In Progress\n",
      "In Progress\n",
      "In Progress\n",
      "In Progress\n",
      "In Progress\n",
      "In Progress\n",
      "In Progress\n",
      "In Progress\n",
      "Complete\n"
     ]
    },
    {
     "name": "stdout",
     "output_type": "stream",
     "text": [
      "$eta\n",
      "[1] \"\"\n",
      "\n",
      "$matrix_url\n",
      "[1] \"https://s3.amazonaws.com/dcp-matrix-service-results-prod/272a2c80-e953-406b-9715-41ecf8f5197c.csv.zip\"\n",
      "\n",
      "$message\n",
      "[1] \"Request 272a2c80-e953-406b-9715-41ecf8f5197c has successfully completed. The resultant expression matrix is available for download at https://s3.amazonaws.com/dcp-matrix-service-results-prod/272a2c80-e953-406b-9715-41ecf8f5197c.csv.zip\"\n",
      "\n",
      "$request_id\n",
      "[1] \"272a2c80-e953-406b-9715-41ecf8f5197c\"\n",
      "\n",
      "$status\n",
      "[1] \"Complete\"\n",
      "\n"
     ]
    }
   ],
   "source": [
    "request_id <- response[\"request_id\"]\n",
    "status <- response[\"status\"]\n",
    "message(status)\n",
    "while (status != \"Complete\") \n",
    "{\n",
    "    url = paste(\"https://matrix.data.humancellatlas.org/v1/matrix/\", request_id, sep = \"\")\n",
    "    r <- GET(url)\n",
    "    response <- content(r)\n",
    "    status = response[\"status\"]\n",
    "    message(status)\n",
    "    Sys.sleep(15)\n",
    "}\n",
    "print(response)"
   ]
  },
  {
   "cell_type": "markdown",
   "metadata": {},
   "source": [
    "Now, that the matrix is ready, we can download it. The file we download is a zip archive that contains a readme and a csv-formatted matrix. Other formats (loom, mtx) can be specified in the matrix request."
   ]
  },
  {
   "cell_type": "code",
   "execution_count": 146,
   "metadata": {},
   "outputs": [],
   "source": [
    "matrix_file_url = unlist(response[\"matrix_url\"])\n",
    "\n",
    "download.file(url=matrix_file_url,\n",
    "              destfile='matrix.zip', method='curl')\n",
    "unzip(\"matrix.zip\", exdir = \"./\")\n",
    "file.show('./csv_readme.md')\n",
    "\n",
    "\n",
    "\n",
    "\n",
    "\n"
   ]
  },
  {
   "cell_type": "markdown",
   "metadata": {},
   "source": [
    "Finally, we load the expression matrix into a seurat object."
   ]
  },
  {
   "cell_type": "code",
   "execution_count": 148,
   "metadata": {},
   "outputs": [
    {
     "data": {
      "text/html": [
       "<ol class=list-inline>\n",
       "\t<li>'cells.csv'</li>\n",
       "\t<li>'expression.csv'</li>\n",
       "\t<li>'genes.csv'</li>\n",
       "</ol>\n"
      ],
      "text/latex": [
       "\\begin{enumerate*}\n",
       "\\item 'cells.csv'\n",
       "\\item 'expression.csv'\n",
       "\\item 'genes.csv'\n",
       "\\end{enumerate*}\n"
      ],
      "text/markdown": [
       "1. 'cells.csv'\n",
       "2. 'expression.csv'\n",
       "3. 'genes.csv'\n",
       "\n",
       "\n"
      ],
      "text/plain": [
       "[1] \"cells.csv\"      \"expression.csv\" \"genes.csv\"     "
      ]
     },
     "metadata": {},
     "output_type": "display_data"
    },
    {
     "name": "stderr",
     "output_type": "stream",
     "text": [
      "Warning message in storage.mode(from) <- \"double\":\n",
      "“NAs introduced by coercion”"
     ]
    },
    {
     "data": {
      "text/plain": [
       "An object of class Seurat \n",
       "2545 features across 63926 samples within 1 assay \n",
       "Active assay: Smart-seq-2 (2545 features)"
      ]
     },
     "metadata": {},
     "output_type": "display_data"
    }
   ],
   "source": [
    "data_dir = paste(\"./\", request_id, \".csv/\", sep = \"\")\n",
    "list.files(data_dir)\n",
    "raw_counts<-read.table(file=paste0(data_dir,\"expression.csv\"),sep=\",\")\n",
    "mydata <- CreateSeuratObject(counts = raw_counts, project = \"Single cell transcriptome analysis of human pancreas\", assay = \"Smart-seq-2\")\n",
    "mydata\n",
    "\n"
   ]
  }
 ],
 "metadata": {
  "kernelspec": {
   "display_name": "R",
   "language": "R",
   "name": "ir"
  },
  "language_info": {
   "codemirror_mode": "r",
   "file_extension": ".r",
   "mimetype": "text/x-r-source",
   "name": "R",
   "pygments_lexer": "r",
   "version": "3.6.0"
  }
 },
 "nbformat": 4,
 "nbformat_minor": 2
}
