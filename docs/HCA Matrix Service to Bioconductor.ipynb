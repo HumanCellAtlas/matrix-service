{
 "cells": [
  {
   "cell_type": "markdown",
   "metadata": {},
   "source": [
    " # Loading an HCA matrix into Bioconductor\n",
    " \n",
    "This vignette illustrates requesting an expression matrix from the HCA matrix service and loading it into a Bioconductor R object.\n",
    "\n",
    "First, install and import some dependencies:"
   ]
  },
  {
   "cell_type": "code",
   "execution_count": 1,
   "metadata": {
    "scrolled": true
   },
   "outputs": [
    {
     "name": "stdout",
     "output_type": "stream",
     "text": [
      "\n",
      "The downloaded binary packages are in\n",
      "\t/var/folders/nl/dgln31tj7l35g879d6f_tjtc0000gn/T//RtmpDOn1ah/downloaded_packages\n",
      "\n",
      "The downloaded binary packages are in\n",
      "\t/var/folders/nl/dgln31tj7l35g879d6f_tjtc0000gn/T//RtmpDOn1ah/downloaded_packages\n"
     ]
    },
    {
     "name": "stderr",
     "output_type": "stream",
     "text": [
      "Bioconductor version 3.9 (BiocManager 1.30.4), R 3.6.0 (2019-04-26)\n",
      "Installing package(s) 'LoomExperiment'\n"
     ]
    },
    {
     "name": "stdout",
     "output_type": "stream",
     "text": [
      "\n",
      "The downloaded binary packages are in\n",
      "\t/var/folders/nl/dgln31tj7l35g879d6f_tjtc0000gn/T//RtmpDOn1ah/downloaded_packages\n"
     ]
    },
    {
     "name": "stderr",
     "output_type": "stream",
     "text": [
      "Update old packages: 'blob', 'bookdown', 'boot', 'digest', 'dplyr',\n",
      "  'googleAuthR', 'hms', 'IRkernel', 'pillar', 'rmarkdown', 'vctrs'\n",
      "Loading required package: S4Vectors\n",
      "Loading required package: stats4\n",
      "Loading required package: BiocGenerics\n",
      "Loading required package: parallel\n",
      "\n",
      "Attaching package: ‘BiocGenerics’\n",
      "\n",
      "The following objects are masked from ‘package:parallel’:\n",
      "\n",
      "    clusterApply, clusterApplyLB, clusterCall, clusterEvalQ,\n",
      "    clusterExport, clusterMap, parApply, parCapply, parLapply,\n",
      "    parLapplyLB, parRapply, parSapply, parSapplyLB\n",
      "\n",
      "The following objects are masked from ‘package:stats’:\n",
      "\n",
      "    IQR, mad, sd, var, xtabs\n",
      "\n",
      "The following objects are masked from ‘package:base’:\n",
      "\n",
      "    anyDuplicated, append, as.data.frame, basename, cbind, colnames,\n",
      "    dirname, do.call, duplicated, eval, evalq, Filter, Find, get, grep,\n",
      "    grepl, intersect, is.unsorted, lapply, Map, mapply, match, mget,\n",
      "    order, paste, pmax, pmax.int, pmin, pmin.int, Position, rank,\n",
      "    rbind, Reduce, rownames, sapply, setdiff, sort, table, tapply,\n",
      "    union, unique, unsplit, which, which.max, which.min\n",
      "\n",
      "\n",
      "Attaching package: ‘S4Vectors’\n",
      "\n",
      "The following object is masked from ‘package:base’:\n",
      "\n",
      "    expand.grid\n",
      "\n",
      "Loading required package: SingleCellExperiment\n",
      "Loading required package: SummarizedExperiment\n",
      "Loading required package: GenomicRanges\n",
      "Loading required package: IRanges\n",
      "Loading required package: GenomeInfoDb\n",
      "Loading required package: Biobase\n",
      "Welcome to Bioconductor\n",
      "\n",
      "    Vignettes contain introductory material; view with\n",
      "    'browseVignettes()'. To cite Bioconductor, see\n",
      "    'citation(\"Biobase\")', and for packages 'citation(\"pkgname\")'.\n",
      "\n",
      "Loading required package: DelayedArray\n",
      "Loading required package: matrixStats\n",
      "\n",
      "Attaching package: ‘matrixStats’\n",
      "\n",
      "The following objects are masked from ‘package:Biobase’:\n",
      "\n",
      "    anyMissing, rowMedians\n",
      "\n",
      "Loading required package: BiocParallel\n",
      "\n",
      "Attaching package: ‘DelayedArray’\n",
      "\n",
      "The following objects are masked from ‘package:matrixStats’:\n",
      "\n",
      "    colMaxs, colMins, colRanges, rowMaxs, rowMins, rowRanges\n",
      "\n",
      "The following objects are masked from ‘package:base’:\n",
      "\n",
      "    aperm, apply, rowsum\n",
      "\n",
      "Loading required package: rhdf5\n",
      "Loading required package: rtracklayer\n",
      "\n",
      "Attaching package: ‘httr’\n",
      "\n",
      "The following object is masked from ‘package:Biobase’:\n",
      "\n",
      "    content\n",
      "\n"
     ]
    }
   ],
   "source": [
    "install.packages(\"downloader\")\n",
    "install.packages(\"BiocManager\")\n",
    "\n",
    "library(\"downloader\")\n",
    "library(\"BiocManager\")\n",
    "\n",
    "BiocManager::install(\"LoomExperiment\")\n",
    "library(LoomExperiment)\n",
    "\n",
    "library(\"httr\")"
   ]
  },
  {
   "cell_type": "markdown",
   "metadata": {},
   "source": [
    "Now, we're going to make some requests to describe what fields and values we can filter on when we're selecting our matrix."
   ]
  },
  {
   "cell_type": "code",
   "execution_count": 2,
   "metadata": {},
   "outputs": [
    {
     "data": {
      "text/html": [
       "<ol>\n",
       "\t<li>'cell_suspension.provenance.document_id'</li>\n",
       "\t<li>'genes_detected'</li>\n",
       "\t<li>'specimen_from_organism.provenance.document_id'</li>\n",
       "\t<li>'specimen_from_organism.genus_species.ontology'</li>\n",
       "\t<li>'specimen_from_organism.genus_species.ontology_label'</li>\n",
       "\t<li>'donor_organism.human_specific.ethnicity.ontology'</li>\n",
       "\t<li>'donor_organism.human_specific.ethnicity.ontology_label'</li>\n",
       "\t<li>'donor_organism.diseases.ontology'</li>\n",
       "\t<li>'donor_organism.diseases.ontology_label'</li>\n",
       "\t<li>'donor_organism.development_stage.ontology'</li>\n",
       "\t<li>'donor_organism.development_stage.ontology_label'</li>\n",
       "\t<li>'derived_organ_ontology'</li>\n",
       "\t<li>'derived_organ_label'</li>\n",
       "\t<li>'derived_organ_part_ontology'</li>\n",
       "\t<li>'derived_organ_part_label'</li>\n",
       "\t<li>'library_preparation_protocol.provenance.document_id'</li>\n",
       "\t<li>'library_preparation_protocol.input_nucleic_acid_molecule.ontology'</li>\n",
       "\t<li>'library_preparation_protocol.input_nucleic_acid_molecule.ontology_label'</li>\n",
       "\t<li>'library_preparation_protocol.library_construction_method.ontology'</li>\n",
       "\t<li>'library_preparation_protocol.library_construction_method.ontology_label'</li>\n",
       "\t<li>'library_preparation_protocol.end_bias'</li>\n",
       "\t<li>'library_preparation_protocol.strand'</li>\n",
       "\t<li>'project.provenance.document_id'</li>\n",
       "\t<li>'project.project_core.project_short_name'</li>\n",
       "\t<li>'project.project_core.project_title'</li>\n",
       "\t<li>'analysis_protocol.provenance.document_id'</li>\n",
       "\t<li>'dss_bundle_fqid'</li>\n",
       "\t<li>'analysis_protocol.protocol_core.protocol_id'</li>\n",
       "\t<li>'analysis_working_group_approval_status'</li>\n",
       "</ol>\n"
      ],
      "text/latex": [
       "\\begin{enumerate}\n",
       "\\item 'cell\\_suspension.provenance.document\\_id'\n",
       "\\item 'genes\\_detected'\n",
       "\\item 'specimen\\_from\\_organism.provenance.document\\_id'\n",
       "\\item 'specimen\\_from\\_organism.genus\\_species.ontology'\n",
       "\\item 'specimen\\_from\\_organism.genus\\_species.ontology\\_label'\n",
       "\\item 'donor\\_organism.human\\_specific.ethnicity.ontology'\n",
       "\\item 'donor\\_organism.human\\_specific.ethnicity.ontology\\_label'\n",
       "\\item 'donor\\_organism.diseases.ontology'\n",
       "\\item 'donor\\_organism.diseases.ontology\\_label'\n",
       "\\item 'donor\\_organism.development\\_stage.ontology'\n",
       "\\item 'donor\\_organism.development\\_stage.ontology\\_label'\n",
       "\\item 'derived\\_organ\\_ontology'\n",
       "\\item 'derived\\_organ\\_label'\n",
       "\\item 'derived\\_organ\\_part\\_ontology'\n",
       "\\item 'derived\\_organ\\_part\\_label'\n",
       "\\item 'library\\_preparation\\_protocol.provenance.document\\_id'\n",
       "\\item 'library\\_preparation\\_protocol.input\\_nucleic\\_acid\\_molecule.ontology'\n",
       "\\item 'library\\_preparation\\_protocol.input\\_nucleic\\_acid\\_molecule.ontology\\_label'\n",
       "\\item 'library\\_preparation\\_protocol.library\\_construction\\_method.ontology'\n",
       "\\item 'library\\_preparation\\_protocol.library\\_construction\\_method.ontology\\_label'\n",
       "\\item 'library\\_preparation\\_protocol.end\\_bias'\n",
       "\\item 'library\\_preparation\\_protocol.strand'\n",
       "\\item 'project.provenance.document\\_id'\n",
       "\\item 'project.project\\_core.project\\_short\\_name'\n",
       "\\item 'project.project\\_core.project\\_title'\n",
       "\\item 'analysis\\_protocol.provenance.document\\_id'\n",
       "\\item 'dss\\_bundle\\_fqid'\n",
       "\\item 'analysis\\_protocol.protocol\\_core.protocol\\_id'\n",
       "\\item 'analysis\\_working\\_group\\_approval\\_status'\n",
       "\\end{enumerate}\n"
      ],
      "text/markdown": [
       "1. 'cell_suspension.provenance.document_id'\n",
       "2. 'genes_detected'\n",
       "3. 'specimen_from_organism.provenance.document_id'\n",
       "4. 'specimen_from_organism.genus_species.ontology'\n",
       "5. 'specimen_from_organism.genus_species.ontology_label'\n",
       "6. 'donor_organism.human_specific.ethnicity.ontology'\n",
       "7. 'donor_organism.human_specific.ethnicity.ontology_label'\n",
       "8. 'donor_organism.diseases.ontology'\n",
       "9. 'donor_organism.diseases.ontology_label'\n",
       "10. 'donor_organism.development_stage.ontology'\n",
       "11. 'donor_organism.development_stage.ontology_label'\n",
       "12. 'derived_organ_ontology'\n",
       "13. 'derived_organ_label'\n",
       "14. 'derived_organ_part_ontology'\n",
       "15. 'derived_organ_part_label'\n",
       "16. 'library_preparation_protocol.provenance.document_id'\n",
       "17. 'library_preparation_protocol.input_nucleic_acid_molecule.ontology'\n",
       "18. 'library_preparation_protocol.input_nucleic_acid_molecule.ontology_label'\n",
       "19. 'library_preparation_protocol.library_construction_method.ontology'\n",
       "20. 'library_preparation_protocol.library_construction_method.ontology_label'\n",
       "21. 'library_preparation_protocol.end_bias'\n",
       "22. 'library_preparation_protocol.strand'\n",
       "23. 'project.provenance.document_id'\n",
       "24. 'project.project_core.project_short_name'\n",
       "25. 'project.project_core.project_title'\n",
       "26. 'analysis_protocol.provenance.document_id'\n",
       "27. 'dss_bundle_fqid'\n",
       "28. 'analysis_protocol.protocol_core.protocol_id'\n",
       "29. 'analysis_working_group_approval_status'\n",
       "\n",
       "\n"
      ],
      "text/plain": [
       "[[1]]\n",
       "[1] \"cell_suspension.provenance.document_id\"\n",
       "\n",
       "[[2]]\n",
       "[1] \"genes_detected\"\n",
       "\n",
       "[[3]]\n",
       "[1] \"specimen_from_organism.provenance.document_id\"\n",
       "\n",
       "[[4]]\n",
       "[1] \"specimen_from_organism.genus_species.ontology\"\n",
       "\n",
       "[[5]]\n",
       "[1] \"specimen_from_organism.genus_species.ontology_label\"\n",
       "\n",
       "[[6]]\n",
       "[1] \"donor_organism.human_specific.ethnicity.ontology\"\n",
       "\n",
       "[[7]]\n",
       "[1] \"donor_organism.human_specific.ethnicity.ontology_label\"\n",
       "\n",
       "[[8]]\n",
       "[1] \"donor_organism.diseases.ontology\"\n",
       "\n",
       "[[9]]\n",
       "[1] \"donor_organism.diseases.ontology_label\"\n",
       "\n",
       "[[10]]\n",
       "[1] \"donor_organism.development_stage.ontology\"\n",
       "\n",
       "[[11]]\n",
       "[1] \"donor_organism.development_stage.ontology_label\"\n",
       "\n",
       "[[12]]\n",
       "[1] \"derived_organ_ontology\"\n",
       "\n",
       "[[13]]\n",
       "[1] \"derived_organ_label\"\n",
       "\n",
       "[[14]]\n",
       "[1] \"derived_organ_part_ontology\"\n",
       "\n",
       "[[15]]\n",
       "[1] \"derived_organ_part_label\"\n",
       "\n",
       "[[16]]\n",
       "[1] \"library_preparation_protocol.provenance.document_id\"\n",
       "\n",
       "[[17]]\n",
       "[1] \"library_preparation_protocol.input_nucleic_acid_molecule.ontology\"\n",
       "\n",
       "[[18]]\n",
       "[1] \"library_preparation_protocol.input_nucleic_acid_molecule.ontology_label\"\n",
       "\n",
       "[[19]]\n",
       "[1] \"library_preparation_protocol.library_construction_method.ontology\"\n",
       "\n",
       "[[20]]\n",
       "[1] \"library_preparation_protocol.library_construction_method.ontology_label\"\n",
       "\n",
       "[[21]]\n",
       "[1] \"library_preparation_protocol.end_bias\"\n",
       "\n",
       "[[22]]\n",
       "[1] \"library_preparation_protocol.strand\"\n",
       "\n",
       "[[23]]\n",
       "[1] \"project.provenance.document_id\"\n",
       "\n",
       "[[24]]\n",
       "[1] \"project.project_core.project_short_name\"\n",
       "\n",
       "[[25]]\n",
       "[1] \"project.project_core.project_title\"\n",
       "\n",
       "[[26]]\n",
       "[1] \"analysis_protocol.provenance.document_id\"\n",
       "\n",
       "[[27]]\n",
       "[1] \"dss_bundle_fqid\"\n",
       "\n",
       "[[28]]\n",
       "[1] \"analysis_protocol.protocol_core.protocol_id\"\n",
       "\n",
       "[[29]]\n",
       "[1] \"analysis_working_group_approval_status\"\n"
      ]
     },
     "metadata": {},
     "output_type": "display_data"
    }
   ],
   "source": [
    "r <- GET(\"https://matrix.data.humancellatlas.org/v1/filters\")\n",
    "content(r)"
   ]
  },
  {
   "cell_type": "markdown",
   "metadata": {},
   "source": [
    "That's the list of metadata fields we can filter on when requesting the matrix. We can describe any of them with further API calls:"
   ]
  },
  {
   "cell_type": "code",
   "execution_count": 3,
   "metadata": {},
   "outputs": [
    {
     "name": "stdout",
     "output_type": "stream",
     "text": [
      "$cell_counts\n",
      "$cell_counts$`Fetal/Maternal Interface`\n",
      "[1] 1\n",
      "\n",
      "$cell_counts$`Single cell RNAseq characterization of cell types produced over time in an in vitro model of human inhibitory interneuron differentiation.`\n",
      "[1] 1733\n",
      "\n",
      "$cell_counts$`Single cell transcriptome analysis of human pancreas`\n",
      "[1] 2544\n",
      "\n",
      "\n",
      "$field_description\n",
      "[1] \"A short name for the project.\"\n",
      "\n",
      "$field_name\n",
      "[1] \"project.project_core.project_short_name\"\n",
      "\n",
      "$field_type\n",
      "[1] \"categorical\"\n",
      "\n"
     ]
    }
   ],
   "source": [
    "r <- GET(\"https://matrix.data.humancellatlas.org/v1/filters/project.project_core.project_short_name\")\n",
    "print(content(r))"
   ]
  },
  {
   "cell_type": "code",
   "execution_count": 4,
   "metadata": {},
   "outputs": [
    {
     "name": "stdout",
     "output_type": "stream",
     "text": [
      "$field_description\n",
      "[1] \"Count of genes with a non-zero count.\"\n",
      "\n",
      "$field_name\n",
      "[1] \"genes_detected\"\n",
      "\n",
      "$field_type\n",
      "[1] \"numeric\"\n",
      "\n",
      "$maximum\n",
      "[1] 13108\n",
      "\n",
      "$minimum\n",
      "[1] 358\n",
      "\n"
     ]
    }
   ],
   "source": [
    "r <- GET(\"https://matrix.data.humancellatlas.org/v1/filters/genes_detected\")\n",
    "print(content(r))"
   ]
  },
  {
   "cell_type": "markdown",
   "metadata": {},
   "source": [
    "For categorical data, we see the number of cells associated with each category. For numeric, we see the range of value. If we want to request a matrix based on these metadata values, we can add them to the filter in the body of a POST request to the matrix service:"
   ]
  },
  {
   "cell_type": "code",
   "execution_count": 5,
   "metadata": {},
   "outputs": [
    {
     "name": "stdout",
     "output_type": "stream",
     "text": [
      "$eta\n",
      "[1] \"\"\n",
      "\n",
      "$matrix_url\n",
      "[1] \"\"\n",
      "\n",
      "$message\n",
      "[1] \"Job started.\"\n",
      "\n",
      "$request_id\n",
      "[1] \"ca657a20-5896-4583-80fc-16c4f02657da\"\n",
      "\n",
      "$status\n",
      "[1] \"In Progress\"\n",
      "\n"
     ]
    }
   ],
   "source": [
    "payload = list(\n",
    "    filter =  list(\n",
    "          op = \"and\", \n",
    "          value = list(\n",
    "              list(op = \"=\", value = \"Single cell transcriptome analysis of human pancreas\",\n",
    "                   field = \"project.project_core.project_short_name\"),\n",
    "              list(op = \">=\", value = 300,\n",
    "                   field = \"genes_detected\")\n",
    "    )),\n",
    "    format = \"loom\"\n",
    ")\n",
    "r <- POST(\"https://matrix.data.humancellatlas.org/v1/matrix\", body = payload, encode = \"json\")\n",
    "response <- content(r)\n",
    "print(response)"
   ]
  },
  {
   "cell_type": "markdown",
   "metadata": {},
   "source": [
    "That call responds right away and tells us that the matrix is being prepared. We can use the request_id to wait until the matrix is done."
   ]
  },
  {
   "cell_type": "code",
   "execution_count": 6,
   "metadata": {},
   "outputs": [
    {
     "name": "stderr",
     "output_type": "stream",
     "text": [
      "In Progress\n",
      "In Progress\n",
      "In Progress\n",
      "In Progress\n",
      "In Progress\n",
      "In Progress\n",
      "In Progress\n",
      "In Progress\n",
      "In Progress\n",
      "In Progress\n",
      "In Progress\n",
      "Complete\n"
     ]
    },
    {
     "name": "stdout",
     "output_type": "stream",
     "text": [
      "$eta\n",
      "[1] \"\"\n",
      "\n",
      "$matrix_url\n",
      "[1] \"https://s3.amazonaws.com/dcp-matrix-service-results-prod/ca657a20-5896-4583-80fc-16c4f02657da.loom\"\n",
      "\n",
      "$message\n",
      "[1] \"Request ca657a20-5896-4583-80fc-16c4f02657da has successfully completed. The resultant expression matrix is available for download at https://s3.amazonaws.com/dcp-matrix-service-results-prod/ca657a20-5896-4583-80fc-16c4f02657da.loom\"\n",
      "\n",
      "$request_id\n",
      "[1] \"ca657a20-5896-4583-80fc-16c4f02657da\"\n",
      "\n",
      "$status\n",
      "[1] \"Complete\"\n",
      "\n"
     ]
    }
   ],
   "source": [
    "request_id <- response[\"request_id\"]\n",
    "status <- response[\"status\"]\n",
    "message(status)\n",
    "while (status != \"Complete\") \n",
    "{\n",
    "    url = paste(\"https://matrix.data.humancellatlas.org/v1/matrix/\", request_id, sep = \"\")\n",
    "    r <- GET(url)\n",
    "    response <- content(r)\n",
    "    status = response[\"status\"]\n",
    "    message(status)\n",
    "    Sys.sleep(15)\n",
    "}\n",
    "print(response)"
   ]
  },
  {
   "cell_type": "markdown",
   "metadata": {},
   "source": [
    "Now, that the matrix is ready, we can download it. The file we download is a loom-formatted matrix. Loom is the default matrix format, but others can be specified in the matrix request (csv, mtx)."
   ]
  },
  {
   "cell_type": "code",
   "execution_count": 7,
   "metadata": {},
   "outputs": [],
   "source": [
    "matrix_file_url = unlist(response[\"matrix_url\"])\n",
    "\n",
    "download.file(url=matrix_file_url,\n",
    "              destfile='matrix.loom', method='curl')"
   ]
  },
  {
   "cell_type": "markdown",
   "metadata": {},
   "source": [
    "# HCA Matrix Service Loom Output\n",
    "\n",
    "The Loom format is documented more fully, along with code samples, [here](https://linnarssonlab.org/loompy/index.html).\n",
    "\n",
    "Per Loom [conventions](https://linnarssonlab.org/loompy/conventions/index.html), columns in the loom-formatted expression matrix represent cells, and rows represent genes. The column and row attributes follow Loom conventions where applicable as well: `CellID` uniquely identifies a cell, `Gene` is a gene name, and `Accession` is an ensembl gene id.\n",
    "\n",
    "Descriptions of the remaining metadata fields are available at the [HCA Data Browser](https://prod.data.humancellatlas.org/metadata).\n",
    "\n",
    "And finally, we can `import` the loom file into a `Bioconductor::SingleCellLoomExperiment` object for further analysis in R."
   ]
  },
  {
   "cell_type": "code",
   "execution_count": 8,
   "metadata": {},
   "outputs": [
    {
     "data": {
      "text/plain": [
       "class: SingleCellLoomExperiment \n",
       "dim: 63925 2544 \n",
       "metadata(3): CreationDate LOOM_SPEC_VERSION last_modified\n",
       "assays(1): matrix\n",
       "rownames: NULL\n",
       "rowData names(7): Accession Gene ... featuretype isgene\n",
       "colnames: NULL\n",
       "colData names(30): CellID analysis_protocol.protocol_core.protocol_id\n",
       "  ... specimen_from_organism.genus_species.ontology_label\n",
       "  specimen_from_organism.provenance.document_id\n",
       "reducedDimNames(0):\n",
       "spikeNames(0):\n",
       "rowGraphs(0): NULL\n",
       "colGraphs(0): NULL"
      ]
     },
     "metadata": {},
     "output_type": "display_data"
    }
   ],
   "source": [
    "scle <- import(\"./matrix.loom\", type=\"SingleCellLoomExperiment\")\n",
    "scle"
   ]
  },
  {
   "cell_type": "markdown",
   "metadata": {},
   "source": [
    "The `SingleCellLoomExperiment` also adheres to Loom [conventions](https://linnarssonlab.org/loompy/conventions/index.html) representing features as rows and samples as columns. Expression data is available via the `assays()` method, specifying a named assay."
   ]
  },
  {
   "cell_type": "code",
   "execution_count": 9,
   "metadata": {},
   "outputs": [
    {
     "data": {
      "text/plain": [
       "<63925 x 2544> DelayedMatrix object of type \"double\":\n",
       "            [,1]    [,2]    [,3] ... [,2543] [,2544]\n",
       "    [1,]       0       0       0   .       0       0\n",
       "    [2,]       0       0       0   .       0       0\n",
       "    [3,]      11       0      37   .       0       6\n",
       "    [4,]       0       0       0   .     101       0\n",
       "    [5,]       0       0       0   .       0       0\n",
       "     ...       .       .       .   .       .       .\n",
       "[63921,]    0.00    0.00    0.00   .       0       2\n",
       "[63922,]    0.00    0.00    0.00   .       0       0\n",
       "[63923,]    0.00    0.00    0.00   .       0       0\n",
       "[63924,]    0.99    0.00    0.00   .       0       0\n",
       "[63925,]    0.00    0.00    0.00   .       0       0"
      ]
     },
     "metadata": {},
     "output_type": "display_data"
    }
   ],
   "source": [
    "assays(scle)$matrix"
   ]
  },
  {
   "cell_type": "markdown",
   "metadata": {},
   "source": [
    "Row and column attribute data are available through `rowData()` and `colData()` methods respectively."
   ]
  },
  {
   "cell_type": "code",
   "execution_count": 10,
   "metadata": {},
   "outputs": [
    {
     "data": {
      "text/plain": [
       "DataFrame with 63925 rows and 7 columns\n",
       "            Accession        Gene  chromosome featureend featurestart\n",
       "          <character> <character> <character>  <integer>    <integer>\n",
       "1     ENSG00000000003      TSPAN6        chrX  100639991    100627109\n",
       "2     ENSG00000000005        TNMD        chrX  100599885    100584802\n",
       "3     ENSG00000000419        DPM1       chr20   50958555     50934867\n",
       "4     ENSG00000000457       SCYL3        chr1  169894267    169849631\n",
       "5     ENSG00000000460    C1orf112        chr1  169854080    169662007\n",
       "...               ...         ...         ...        ...          ...\n",
       "63921 ENSG00000284744  AL591163.1        chr1    6770038      6767954\n",
       "63922 ENSG00000284745  AL589702.1        chr1    2968707      2960658\n",
       "63923 ENSG00000284746 AC068587.10        chr8   12601376     12601158\n",
       "63924 ENSG00000284747  AL034417.4        chr1    8005312      7991134\n",
       "63925 ENSG00000284748  AL513220.1        chr1   37607336     37596126\n",
       "                             featuretype    isgene\n",
       "                             <character> <integer>\n",
       "1                         protein_coding         1\n",
       "2                         protein_coding         1\n",
       "3                         protein_coding         1\n",
       "4                         protein_coding         1\n",
       "5                         protein_coding         1\n",
       "...                                  ...       ...\n",
       "63921                            lincRNA         1\n",
       "63922                            lincRNA         1\n",
       "63923 transcribed_unprocessed_pseudogene         1\n",
       "63924                      antisense_RNA         1\n",
       "63925      bidirectional_promoter_lncRNA         1"
      ]
     },
     "metadata": {},
     "output_type": "display_data"
    }
   ],
   "source": [
    "rowData(scle)"
   ]
  },
  {
   "cell_type": "markdown",
   "metadata": {},
   "source": [
    "For more examples on usage, see the Bioconductor documentation for the following parent classes of `SingleCellLoomExperiment`:\n",
    "\n",
    "- [SummarizedExperiment](http://bioconductor.org/packages/release/bioc/vignettes/SummarizedExperiment/inst/doc/SummarizedExperiment.html#anatomy-of-a-summarizedexperiment)\n",
    "- [SingleCellExperiment](https://bioconductor.org/packages/devel/bioc/vignettes/scater/inst/doc/vignette-intro.html#3_calculating_a_variety_of_expression_values)\n",
    "- [LoomExperiment](http://bioconductor.org/packages/release/bioc/vignettes/LoomExperiment/inst/doc/LoomExperiment.html)"
   ]
  }
 ],
 "metadata": {
  "kernelspec": {
   "display_name": "R",
   "language": "R",
   "name": "ir"
  },
  "language_info": {
   "codemirror_mode": "r",
   "file_extension": ".r",
   "mimetype": "text/x-r-source",
   "name": "R",
   "pygments_lexer": "r",
   "version": "3.6.0"
  }
 },
 "nbformat": 4,
 "nbformat_minor": 2
}
